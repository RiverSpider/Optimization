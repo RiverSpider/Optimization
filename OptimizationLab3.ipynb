{
 "cells": [
  {
   "cell_type": "code",
   "execution_count": 1,
   "id": "34cc8b34",
   "metadata": {},
   "outputs": [],
   "source": [
    "import numpy as np\n",
    "from sympy import *\n",
    "from scipy.optimize import minimize"
   ]
  },
  {
   "cell_type": "code",
   "execution_count": 14,
   "id": "75bb7847",
   "metadata": {},
   "outputs": [
    {
     "name": "stdout",
     "output_type": "stream",
     "text": [
      "Минимум функции: 4.999999999999999\n",
      "Аргументы минимума: [1. 2.]\n"
     ]
    }
   ],
   "source": [
    "# Метод множителей Лагранжа\n",
    "\n",
    "def f(x):\n",
    "    return np.power(x[0], 2) + np.power(x[1], 2)\n",
    "\n",
    "def fi(x):\n",
    "    return x[0] + 2 * x[1] - 5\n",
    "\n",
    "x0 = np.array([0, 0])\n",
    "\n",
    "out = minimize(f, x0, method='SLSQP', \n",
    "               constraints=[{'type': 'eq', 'fun': fi}])\n",
    "\n",
    "print(\"Минимум функции:\", out.fun)\n",
    "print(\"Аргументы минимума:\", out.x)\n"
   ]
  },
  {
   "cell_type": "code",
   "execution_count": 28,
   "id": "9d250aa5",
   "metadata": {},
   "outputs": [
    {
     "name": "stdout",
     "output_type": "stream",
     "text": [
      "5\n",
      "1 2\n"
     ]
    }
   ],
   "source": [
    "# Метод множителей Лагранжа\n",
    "\n",
    "def f(x):\n",
    "    return np.power(x[0], 2) + np.power(x[1], 2)\n",
    "\n",
    "def fi(x, y):\n",
    "    return x + 2 * y - 5\n",
    "\n",
    "x, y = symbols('x y')\n",
    "l = symbols('l')\n",
    "\n",
    "f = np.power(x, 2) + np.power(y, 2)\n",
    "eps = fi(x, y)\n",
    "\n",
    "u = f + l * eps\n",
    "ux = diff(u, x)\n",
    "uy = diff(u, y)\n",
    "ul = diff(u, l)\n",
    "\n",
    "solution = solve([ux, uy, ul], (x, y, l))\n",
    "\n",
    "min_out = f.subs(solution)\n",
    "\n",
    "print(min_out)\n",
    "print(solution[x], solution[y])"
   ]
  },
  {
   "cell_type": "code",
   "execution_count": 36,
   "id": "b6bf119b",
   "metadata": {},
   "outputs": [
    {
     "name": "stdout",
     "output_type": "stream",
     "text": [
      "5.5 5.5\n",
      "0.0\n"
     ]
    }
   ],
   "source": [
    "# Метод Зойтендейка\n",
    "\n",
    "def f(x, y):\n",
    "    return x * x - y * y\n",
    "\n",
    "a_x, b_x = 1, 10\n",
    "a_y, b_y = 1, 10\n",
    "eps = 0.01\n",
    "c_x = (a_x + b_x) / 2\n",
    "c_y = (a_y + b_y) / 2\n",
    "\n",
    "for _ in range(100):\n",
    "    \n",
    "    if f(a_x, a_y) * f(c_x, c_y) < 0:\n",
    "            b_x, b_y = c_x, c_y\n",
    "    else:\n",
    "            a_x, a_y = c_x, c_y\n",
    "\n",
    "    if abs(f(c_x, c_y)) < eps:\n",
    "            print(c_x, c_y)\n",
    "            break\n",
    " \n",
    "\n",
    "print(f(c_x, c_y))"
   ]
  },
  {
   "cell_type": "code",
   "execution_count": 1,
   "id": "d35d1625",
   "metadata": {},
   "outputs": [
    {
     "name": "stdout",
     "output_type": "stream",
     "text": [
      "[0.99999913 0.99999825]\n",
      "7.717288281533596e-13\n"
     ]
    },
    {
     "name": "stderr",
     "output_type": "stream",
     "text": [
      "c:\\Users\\Кирилл\\AppData\\Local\\Programs\\Python\\Python310\\lib\\site-packages\\scipy\\optimize\\_minimize.py:569: RuntimeWarning: Method BFGS cannot handle bounds.\n",
      "  warn('Method %s cannot handle bounds.' % method,\n"
     ]
    }
   ],
   "source": [
    "import numpy as np\n",
    "from scipy.optimize import minimize\n",
    "from sympy import symbols, diff, lambdify\n",
    "\n",
    "x0, x1 = symbols('x0 x1')\n",
    "\n",
    "rosenbrock = (1 - x0)**2 + 100*(x1 - x0**2)**2\n",
    "grad_x0 = diff(rosenbrock, x0)\n",
    "grad_x1 = diff(rosenbrock, x1)\n",
    "\n",
    "grad_func_x0 = lambdify((x0, x1), grad_x0)\n",
    "grad_func_x1 = lambdify((x0, x1), grad_x1)\n",
    "rosenbrock_func = lambdify((x0, x1), rosenbrock)\n",
    "\n",
    "\n",
    "def projection_gradient_rosenbrock():\n",
    "    x_initial = np.array([0, 0])\n",
    "    bounds = [(None, None), (None, None)]\n",
    "\n",
    "    def projection_gradient(x):\n",
    "        f_value = rosenbrock_func(x[0], x[1])\n",
    "        grad = np.array([grad_func_x0(x[0], x[1]), grad_func_x1(x[0], x[1])])\n",
    "\n",
    "        constraint = x[0] + 2 * x[1] - 5\n",
    "        if constraint > 0:\n",
    "            grad[0] -= constraint\n",
    "            grad[1] -= 2 * constraint\n",
    "\n",
    "        return f_value, grad\n",
    "\n",
    "    result = minimize(projection_gradient, x_initial, method='BFGS', jac=True, bounds=bounds)\n",
    "\n",
    "    print(result.x)\n",
    "    print(result.fun)\n",
    "\n",
    "\n",
    "if __name__ == '__main__':\n",
    "    projection_gradient_rosenbrock()"
   ]
  },
  {
   "cell_type": "code",
   "execution_count": null,
   "id": "58d9e1f8",
   "metadata": {},
   "outputs": [],
   "source": []
  }
 ],
 "metadata": {
  "kernelspec": {
   "display_name": "Python 3 (ipykernel)",
   "language": "python",
   "name": "python3"
  },
  "language_info": {
   "codemirror_mode": {
    "name": "ipython",
    "version": 3
   },
   "file_extension": ".py",
   "mimetype": "text/x-python",
   "name": "python",
   "nbconvert_exporter": "python",
   "pygments_lexer": "ipython3",
   "version": "3.10.5"
  }
 },
 "nbformat": 4,
 "nbformat_minor": 5
}
