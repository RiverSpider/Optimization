{
 "cells": [
  {
   "cell_type": "code",
   "execution_count": 10,
   "id": "f70c99c5",
   "metadata": {},
   "outputs": [],
   "source": [
    "import numpy as np"
   ]
  },
  {
   "cell_type": "code",
   "execution_count": 11,
   "id": "3e664a29",
   "metadata": {},
   "outputs": [],
   "source": [
    "def f(x):\n",
    "    return np.cos(x)"
   ]
  },
  {
   "cell_type": "code",
   "execution_count": 12,
   "id": "ccb13df3",
   "metadata": {},
   "outputs": [
    {
     "name": "stdout",
     "output_type": "stream",
     "text": [
      "-0.9999675329146963\n",
      "9\n"
     ]
    }
   ],
   "source": [
    "# Метод дихотомии\n",
    "\n",
    "eps = 0.01\n",
    "\n",
    "a, b = 0, np.pi\n",
    "n = 0\n",
    "\n",
    "while b - a > 2 * eps:\n",
    "    n += 1\n",
    "    x = (a + b) / 2\n",
    "    x1 = x - eps / 2\n",
    "    x2 = x + eps / 2\n",
    "    if f(x1) > f(x2):\n",
    "        a = x1\n",
    "    else:\n",
    "        b = x2\n",
    "\n",
    "print(f((a + b) / 2))\n",
    "print(n)"
   ]
  },
  {
   "cell_type": "code",
   "execution_count": 14,
   "id": "613cd426",
   "metadata": {},
   "outputs": [
    {
     "name": "stdout",
     "output_type": "stream",
     "text": [
      "9\n",
      "-0.99911407751537\n",
      "7\n"
     ]
    }
   ],
   "source": [
    "# Метод Фибоначчи\n",
    "\n",
    "def fibo(n):\n",
    "    num = [0, 1]\n",
    "    \n",
    "    for i in range(2, n):\n",
    "        num.append(num[i - 2] + num[i - 1])\n",
    "    \n",
    "    return num\n",
    "\n",
    "n = int(input())\n",
    "\n",
    "fib = fibo(n)\n",
    "\n",
    "a, b = 0, np.pi\n",
    "l = abs(b - a)\n",
    "f1, f2 = 0, 0\n",
    "k = 0\n",
    "while n > 2:\n",
    "    k += 1\n",
    "    x1 = a + fib[-2] * l / fib[-1]\n",
    "    x2 = b - fib[-2] * l / fib[-1]\n",
    "    \n",
    "    f1, f2 = f(x1), f(x2)\n",
    "    if f1 > f2:\n",
    "        b, f1, x1 = x1, f2, x2\n",
    "        l = b - a\n",
    "        \n",
    "        x2 = a + (b - x1)\n",
    "        f2 = f(x2)\n",
    "    else:\n",
    "        a, f2, x2 = x2, f1, x1\n",
    "        l = b - a\n",
    "        \n",
    "        x1 = b - (x2 - a)\n",
    "        f1 = f(x1)\n",
    "    n -= 1\n",
    "    \n",
    "print(min(f1, f2))\n",
    "print(k)"
   ]
  },
  {
   "cell_type": "code",
   "execution_count": 7,
   "id": "d29c4db9",
   "metadata": {},
   "outputs": [
    {
     "name": "stdout",
     "output_type": "stream",
     "text": [
      "-1.0\n",
      "24\n"
     ]
    }
   ],
   "source": [
    "# Метод золотого сечения\n",
    "\n",
    "eps = 0.01\n",
    "a, b = 0, np.pi\n",
    "l = abs(b - a)\n",
    "f1, f2 = 0, 0\n",
    "g = 0.618\n",
    "n = 0\n",
    "while l > eps:\n",
    "    n += 1\n",
    "    x1, x2 = a + l * g, b - l * g\n",
    "    \n",
    "    f1, f2 = f(x1), f(x2)\n",
    "    if f1 > f2:\n",
    "        b, f1, x1, l = x1, f2, x2, b - a\n",
    "        \n",
    "        x2 = a + b - x1\n",
    "        f2 = f(x2)\n",
    "    else:\n",
    "        a, f2, x2, l = x2, f1, x1, b - a\n",
    "        \n",
    "        x1 = b - x2 + a\n",
    "        f1 = f(x1)\n",
    "print(min(f1, f2))\n",
    "print(n)"
   ]
  },
  {
   "cell_type": "code",
   "execution_count": 8,
   "id": "ea29a964",
   "metadata": {},
   "outputs": [
    {
     "name": "stdout",
     "output_type": "stream",
     "text": [
      "-0.9996988186962042\n",
      "7\n"
     ]
    }
   ],
   "source": [
    "from sympy import *\n",
    "\n",
    "eps = 0.01\n",
    "\n",
    "a, b = 0, np.pi\n",
    "\n",
    "l = 2 * eps\n",
    "\n",
    "n = -int(np.log(l / (b - a)) / (np.log(2) - np.log(1)))\n",
    "k = 0\n",
    "\n",
    "while k != n - 1:\n",
    "    xk = 1/2 * (a + b)\n",
    "    \n",
    "    x = symbols('x')\n",
    "\n",
    "    f = cos(x)\n",
    "\n",
    "    ux = diff(f, x)\n",
    "    fi = ux.subs({x:xk})\n",
    "    \n",
    "    if fi == 0:\n",
    "        break\n",
    "    elif fi > 0:\n",
    "        b = xk\n",
    "    else:\n",
    "        a = xk\n",
    "    \n",
    "    k += 1\n",
    "\n",
    "print(np.cos((a + b) / 2))\n",
    "print(n)"
   ]
  },
  {
   "cell_type": "code",
   "execution_count": null,
   "id": "57b81a1a",
   "metadata": {},
   "outputs": [],
   "source": []
  }
 ],
 "metadata": {
  "kernelspec": {
   "display_name": "Python 3 (ipykernel)",
   "language": "python",
   "name": "python3"
  },
  "language_info": {
   "codemirror_mode": {
    "name": "ipython",
    "version": 3
   },
   "file_extension": ".py",
   "mimetype": "text/x-python",
   "name": "python",
   "nbconvert_exporter": "python",
   "pygments_lexer": "ipython3",
   "version": "3.10.5"
  }
 },
 "nbformat": 4,
 "nbformat_minor": 5
}
